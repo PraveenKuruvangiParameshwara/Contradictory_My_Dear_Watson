{
 "cells": [
  {
   "cell_type": "markdown",
   "metadata": {
    "id": "-lxUVcd3c0Qr"
   },
   "source": [
    "BI_LSTM"
   ]
  },
  {
   "cell_type": "code",
   "execution_count": null,
   "metadata": {
    "colab": {
     "base_uri": "https://localhost:8080/"
    },
    "id": "4fl28hNYHXbU",
    "outputId": "5ea65e77-7930-4063-f903-2097b1a42003"
   },
   "outputs": [
    {
     "name": "stdout",
     "output_type": "stream",
     "text": [
      "Mounted at /content/gdrive/\n"
     ]
    }
   ],
   "source": [
    "from google.colab import drive\n",
    "# mounting google drive\n",
    "drive.mount('/content/gdrive/', force_remount = True)"
   ]
  },
  {
   "cell_type": "code",
   "execution_count": null,
   "metadata": {
    "id": "MkhczbllHtSJ"
   },
   "outputs": [],
   "source": [
    "import pandas as pd\n",
    "import numpy as np\n",
    "import matplotlib.pyplot as plt\n",
    "import seaborn as sns\n",
    "from sklearn.model_selection import train_test_split\n",
    "from sklearn.preprocessing import LabelEncoder\n",
    "from keras.models import Model\n",
    "from keras.layers import LSTM, Activation, Dense, Dropout, Input, Embedding\n",
    "from keras.optimizers import RMSprop\n",
    "from keras.preprocessing.text import Tokenizer\n",
    "from keras.preprocessing import sequence\n",
    "from keras.utils import to_categorical\n",
    "from keras.callbacks import EarlyStopping\n",
    "%matplotlib inline"
   ]
  },
  {
   "cell_type": "markdown",
   "metadata": {
    "id": "qLfCwzaTYyjC"
   },
   "source": [
    "Load Train and Test data"
   ]
  },
  {
   "cell_type": "code",
   "execution_count": null,
   "metadata": {
    "id": "PYRpU5FvICf6"
   },
   "outputs": [],
   "source": [
    "train_dt = pd.read_csv('train.csv')\n",
    "test_dt = pd.read_csv('test.csv')"
   ]
  },
  {
   "cell_type": "code",
   "execution_count": null,
   "metadata": {
    "colab": {
     "base_uri": "https://localhost:8080/"
    },
    "id": "x_KpeNBOILwB",
    "outputId": "633f6c81-1f70-4259-d65c-574c096a13aa"
   },
   "outputs": [
    {
     "data": {
      "text/plain": [
       "Index(['id', 'premise', 'hypothesis', 'lang_abv', 'language', 'label'], dtype='object')"
      ]
     },
     "execution_count": 5,
     "metadata": {},
     "output_type": "execute_result"
    }
   ],
   "source": [
    "train_dt.columns"
   ]
  },
  {
   "cell_type": "markdown",
   "metadata": {
    "id": "CrngrN22YqD-"
   },
   "source": [
    "Define TPU usage"
   ]
  },
  {
   "cell_type": "code",
   "execution_count": null,
   "metadata": {
    "colab": {
     "base_uri": "https://localhost:8080/"
    },
    "id": "RIRQz2czYoz2",
    "outputId": "19fd3da5-7cc9-48d7-d4c4-0ff8f04db5d3"
   },
   "outputs": [
    {
     "name": "stderr",
     "output_type": "stream",
     "text": [
      "WARNING:absl:`tf.distribute.experimental.TPUStrategy` is deprecated, please use  the non experimental symbol `tf.distribute.TPUStrategy` instead.\n"
     ]
    },
    {
     "name": "stdout",
     "output_type": "stream",
     "text": [
      "Number of replicas: 8\n"
     ]
    }
   ],
   "source": [
    "import tensorflow as tf\n",
    "try:\n",
    "    TPU = tf.distribute.cluster_resolver.TPUClusterResolver()\n",
    "    tf.config.experimental_connect_to_cluster(TPU)\n",
    "    tf.tpu.experimental.initialize_tpu_system(TPU)\n",
    "    tpu_strategy = tf.distribute.TPUStrategy(TPU)\n",
    "except ValueError:\n",
    "    tpu_strategy = tf.distribute.get_strategy() # for CPU and single GPU\n",
    "print('Number of replicas:', tpu_strategy.num_replicas_in_sync)"
   ]
  },
  {
   "cell_type": "code",
   "execution_count": null,
   "metadata": {
    "id": "YI0zuC6VOydH"
   },
   "outputs": [],
   "source": [
    "#train_dt = train_dt.loc[train_dt['language'] =='English']"
   ]
  },
  {
   "cell_type": "markdown",
   "metadata": {
    "id": "ZXzVmqbUaAjx"
   },
   "source": [
    "Combining both premise and hypothesis data"
   ]
  },
  {
   "cell_type": "code",
   "execution_count": null,
   "metadata": {
    "colab": {
     "base_uri": "https://localhost:8080/"
    },
    "id": "5QrBBZ5iLjwz",
    "outputId": "57260258-c3e3-4ee3-aaa8-681bd51def17"
   },
   "outputs": [
    {
     "data": {
      "text/plain": [
       "0    and these comments were considered in formulat...\n",
       "1    These are issues that we wrestle with in pract...\n",
       "2    Des petites choses comme celles-là font une di...\n",
       "3    you know they can't really defend themselves l...\n",
       "4    ในการเล่นบทบาทสมมุติก็เช่นกัน โอกาสที่จะได้แสด...\n",
       "Name: premise, dtype: object"
      ]
     },
     "execution_count": 8,
     "metadata": {},
     "output_type": "execute_result"
    }
   ],
   "source": [
    "train_dt.premise.astype(str).str.cat(train_dt.hypothesis).head()"
   ]
  },
  {
   "cell_type": "code",
   "execution_count": null,
   "metadata": {
    "id": "4poIbFrfL8BD"
   },
   "outputs": [],
   "source": [
    "train_inp = train_dt.premise.astype(str).str.cat(train_dt.hypothesis)\n",
    "train_out = train_dt['label']"
   ]
  },
  {
   "cell_type": "code",
   "execution_count": null,
   "metadata": {
    "colab": {
     "base_uri": "https://localhost:8080/"
    },
    "id": "T54KuO6seu8x",
    "outputId": "7cd87c21-56c9-4724-b5d2-7a3bb9ca0f34"
   },
   "outputs": [
    {
     "data": {
      "text/plain": [
       "((12120,), (12120,))"
      ]
     },
     "execution_count": 10,
     "metadata": {},
     "output_type": "execute_result"
    }
   ],
   "source": [
    "train_inp.shape, train_out.shape"
   ]
  },
  {
   "cell_type": "markdown",
   "metadata": {
    "id": "oNcZMJSKZplt"
   },
   "source": [
    "Plot the bar chart based on given classification"
   ]
  },
  {
   "cell_type": "code",
   "execution_count": null,
   "metadata": {
    "colab": {
     "base_uri": "https://localhost:8080/",
     "height": 388
    },
    "id": "QDgvaa7TZmsj",
    "outputId": "b4b1868a-3a58-4991-c433-2d9d4a487946"
   },
   "outputs": [
    {
     "name": "stderr",
     "output_type": "stream",
     "text": [
      "/usr/local/lib/python3.8/dist-packages/seaborn/_decorators.py:36: FutureWarning: Pass the following variable as a keyword arg: x. From version 0.12, the only valid positional argument will be `data`, and passing other arguments without an explicit keyword will result in an error or misinterpretation.\n",
      "  warnings.warn(\n"
     ]
    },
    {
     "data": {
      "image/png": "[encoded data removed]",
      "text/plain": [
       "<Figure size 432x288 with 1 Axes>"
      ]
     },
     "metadata": {
      "needs_background": "light"
     },
     "output_type": "display_data"
    },
    {
     "name": "stdout",
     "output_type": "stream",
     "text": [
      "Number of entailment:  4176\n",
      "Number of neutral:  4064\n",
      "Number of contradiction:  3880\n"
     ]
    }
   ],
   "source": [
    "import seaborn as sns\n",
    "import matplotlib.pyplot as plt\n",
    "\n",
    "%matplotlib inline\n",
    "\n",
    "y = train_dt['label']\n",
    "ax = sns.countplot(y, label=\"Count\", palette=\"muted\")\n",
    "entailment, neutral, contradiction = y.value_counts()\n",
    "plt.show()\n",
    "print('Number of entailment: ', entailment)\n",
    "print('Number of neutral: ', neutral)\n",
    "print('Number of contradiction: ', contradiction)"
   ]
  },
  {
   "cell_type": "markdown",
   "metadata": {
    "id": "LwtsRaAHZ5aN"
   },
   "source": [
    "Creating the pad sequence for the given data"
   ]
  },
  {
   "cell_type": "code",
   "execution_count": null,
   "metadata": {
    "id": "MGqZ70y_MNxm"
   },
   "outputs": [],
   "source": [
    "from keras.utils import pad_sequences\n",
    "\n",
    "max_words = 1000\n",
    "max_len = 500\n",
    "tok = Tokenizer(num_words=max_words)\n",
    "tok.fit_on_texts(train_inp)\n",
    "sequences = tok.texts_to_sequences(train_inp)\n",
    "sequences_matrix = pad_sequences(sequences,maxlen=max_len)"
   ]
  },
  {
   "cell_type": "markdown",
   "metadata": {
    "id": "wlRQjzg3aL16"
   },
   "source": [
    "Define the Model"
   ]
  },
  {
   "cell_type": "code",
   "execution_count": null,
   "metadata": {
    "id": "7TjWtwSr6-I5"
   },
   "outputs": [],
   "source": [
    "from tensorflow.keras.layers import Bidirectional, Reshape, GlobalAveragePooling1D, GlobalMaxPooling1D, concatenate"
   ]
  },
  {
   "cell_type": "code",
   "execution_count": null,
   "metadata": {
    "id": "N19ZQESPMRdH"
   },
   "outputs": [],
   "source": [
    "def RNN_BILSTM():\n",
    "    inputs = Input(name='inputs',shape=[max_len])\n",
    "    layer = Embedding(max_words,250,input_length=max_len)(inputs)\n",
    "    layer = Bidirectional(LSTM(128, return_sequences=True,recurrent_dropout=0.2))(layer)\n",
    "    layer = Bidirectional(LSTM(128, return_sequences=True,recurrent_dropout=0.2))(layer)\n",
    "    layer = Bidirectional(LSTM(128, return_sequences=True,recurrent_dropout=0.2))(layer)\n",
    "    avg_pool = GlobalAveragePooling1D()(layer)\n",
    "    max_pool = GlobalMaxPooling1D()(layer)\n",
    "    layer = concatenate([avg_pool, max_pool])\n",
    "    layer = Dense(3, activation=\"softmax\", name=\"final_output\")(layer)\n",
    "    model = Model(inputs=inputs,outputs=layer)\n",
    "    return model\n",
    "\n"
   ]
  },
  {
   "cell_type": "markdown",
   "metadata": {
    "id": "kVzUKc1QcAUJ"
   },
   "source": [
    "Create the model and compile"
   ]
  },
  {
   "cell_type": "code",
   "execution_count": null,
   "metadata": {
    "id": "KLeQy9kzdLji"
   },
   "outputs": [],
   "source": [
    "with tpu_strategy.scope():\n",
    "  bilstm_model = RNN_BILSTM()"
   ]
  },
  {
   "cell_type": "code",
   "execution_count": null,
   "metadata": {
    "colab": {
     "base_uri": "https://localhost:8080/"
    },
    "id": "fRhnr3D3MwKl",
    "outputId": "90442161-cd39-48c6-e4fa-a201efe182ec"
   },
   "outputs": [
    {
     "name": "stdout",
     "output_type": "stream",
     "text": [
      "Model: \"model_1\"\n",
      "__________________________________________________________________________________________________\n",
      " Layer (type)                   Output Shape         Param #     Connected to                     \n",
      "==================================================================================================\n",
      " inputs (InputLayer)            [(None, 500)]        0           []                               \n",
      "                                                                                                  \n",
      " embedding_1 (Embedding)        (None, 500, 250)     250000      ['inputs[0][0]']                 \n",
      "                                                                                                  \n",
      " bidirectional_6 (Bidirectional  (None, 500, 256)    388096      ['embedding_1[0][0]']            \n",
      " )                                                                                                \n",
      "                                                                                                  \n",
      " bidirectional_7 (Bidirectional  (None, 500, 256)    394240      ['bidirectional_6[0][0]']        \n",
      " )                                                                                                \n",
      "                                                                                                  \n",
      " bidirectional_8 (Bidirectional  (None, 500, 256)    394240      ['bidirectional_7[0][0]']        \n",
      " )                                                                                                \n",
      "                                                                                                  \n",
      " global_average_pooling1d_1 (Gl  (None, 256)         0           ['bidirectional_8[0][0]']        \n",
      " obalAveragePooling1D)                                                                            \n",
      "                                                                                                  \n",
      " global_max_pooling1d_1 (Global  (None, 256)         0           ['bidirectional_8[0][0]']        \n",
      " MaxPooling1D)                                                                                    \n",
      "                                                                                                  \n",
      " concatenate_1 (Concatenate)    (None, 512)          0           ['global_average_pooling1d_1[0][0\n",
      "                                                                 ]',                              \n",
      "                                                                  'global_max_pooling1d_1[0][0]'] \n",
      "                                                                                                  \n",
      " final_output (Dense)           (None, 3)            1539        ['concatenate_1[0][0]']          \n",
      "                                                                                                  \n",
      "==================================================================================================\n",
      "Total params: 1,428,115\n",
      "Trainable params: 1,428,115\n",
      "Non-trainable params: 0\n",
      "__________________________________________________________________________________________________\n"
     ]
    }
   ],
   "source": [
    "bilstm_model.summary()\n",
    "bilstm_model.compile(loss='sparse_categorical_crossentropy',optimizer=RMSprop(),metrics=['accuracy'])"
   ]
  },
  {
   "cell_type": "markdown",
   "metadata": {
    "id": "R4OI_0UfcDuH"
   },
   "source": []
  },
  {
   "cell_type": "code",
   "execution_count": null,
   "metadata": {
    "colab": {
     "base_uri": "https://localhost:8080/"
    },
    "id": "g9-FpQGZM5GK",
    "outputId": "89cac9d5-6426-438b-b479-0de523cdff86"
   },
   "outputs": [
    {
     "name": "stdout",
     "output_type": "stream",
     "text": [
      "Epoch 1/6\n",
      "76/76 [==============================] - 58s 764ms/step - loss: 1.0188 - accuracy: 0.4632 - val_loss: 1.0859 - val_accuracy: 0.3952\n",
      "Epoch 2/6\n",
      "76/76 [==============================] - 58s 764ms/step - loss: 0.9865 - accuracy: 0.4889 - val_loss: 1.1124 - val_accuracy: 0.3886\n",
      "Epoch 3/6\n",
      "76/76 [==============================] - 58s 764ms/step - loss: 0.9529 - accuracy: 0.5131 - val_loss: 1.1854 - val_accuracy: 0.4047\n",
      "Epoch 4/6\n",
      "76/76 [==============================] - 58s 764ms/step - loss: 0.9220 - accuracy: 0.5290 - val_loss: 1.2262 - val_accuracy: 0.3841\n",
      "Epoch 5/6\n",
      "76/76 [==============================] - 58s 764ms/step - loss: 0.8918 - accuracy: 0.5487 - val_loss: 1.2583 - val_accuracy: 0.3812\n",
      "Epoch 6/6\n",
      "76/76 [==============================] - 58s 764ms/step - loss: 0.8601 - accuracy: 0.5747 - val_loss: 1.3967 - val_accuracy: 0.3940\n"
     ]
    }
   ],
   "source": [
    "bilstm_history = bilstm_model.fit(sequences_matrix,train_out,batch_size=16*tpu_strategy.num_replicas_in_sync,epochs=6,\n",
    "          validation_split=0.2, verbose=1)"
   ]
  },
  {
   "cell_type": "markdown",
   "metadata": {
    "id": "pSn4fzxfcWPz"
   },
   "source": [
    "Plot the accuracy"
   ]
  },
  {
   "cell_type": "code",
   "execution_count": null,
   "metadata": {
    "colab": {
     "base_uri": "https://localhost:8080/",
     "height": 283
    },
    "id": "oX3TaicLcWl7",
    "outputId": "d8b488a8-853b-439b-a9dc-b5304a229ee9"
   },
   "outputs": [
    {
     "data": {
      "image/png": "[encoded data removed]",
      "text/plain": [
       "<Figure size 432x288 with 1 Axes>"
      ]
     },
     "metadata": {
      "needs_background": "light"
     },
     "output_type": "display_data"
    }
   ],
   "source": [
    "plt.plot(bilstm_history.history['accuracy'], label='accuracy')\n",
    "plt.plot(bilstm_history.history['val_accuracy'], label = 'val_accuracy')\n",
    "plt.xlabel('Epoch')\n",
    "plt.ylabel('Accuracy')\n",
    "plt.ylim([0.2, 1])\n",
    "plt.legend(loc='lower right')\n",
    "plt.show()"
   ]
  },
  {
   "cell_type": "markdown",
   "metadata": {
    "id": "GdLJ65p_cZ4m"
   },
   "source": [
    "Prediction"
   ]
  },
  {
   "cell_type": "code",
   "execution_count": null,
   "metadata": {
    "id": "MGyhSomGM-v1"
   },
   "outputs": [],
   "source": [
    "test_inp = test_dt.premise.astype(str).str.cat(test_dt.hypothesis)"
   ]
  },
  {
   "cell_type": "code",
   "execution_count": null,
   "metadata": {
    "id": "aEg-MZTQX2iZ"
   },
   "outputs": [],
   "source": [
    "test_sequences = tok.texts_to_sequences(test_inp)\n",
    "test_sequences_matrix = pad_sequences(test_sequences,maxlen=max_len)"
   ]
  },
  {
   "cell_type": "code",
   "execution_count": null,
   "metadata": {
    "colab": {
     "base_uri": "https://localhost:8080/"
    },
    "id": "5faXwbTQOsjT",
    "outputId": "5c52b388-8768-46d4-d94d-0f5820236e77"
   },
   "outputs": [
    {
     "name": "stdout",
     "output_type": "stream",
     "text": [
      "163/163 [==============================] - 16s 88ms/step\n"
     ]
    }
   ],
   "source": [
    "test_pred=[np.argmax(i) for i in bilstm_model.predict(test_sequences_matrix)]"
   ]
  },
  {
   "cell_type": "code",
   "execution_count": null,
   "metadata": {
    "colab": {
     "base_uri": "https://localhost:8080/"
    },
    "id": "G5mB7Kx5XN3_",
    "outputId": "dc25f9df-9cab-40a7-d462-c51d1dfd1f7b"
   },
   "outputs": [
    {
     "data": {
      "text/plain": [
       "0    2016\n",
       "2    1606\n",
       "1    1573\n",
       "dtype: int64"
      ]
     },
     "execution_count": 34,
     "metadata": {},
     "output_type": "execute_result"
    }
   ],
   "source": [
    "pd.DataFrame(test_pred).value_counts()"
   ]
  },
  {
   "cell_type": "code",
   "execution_count": null,
   "metadata": {
    "id": "RJ8dgt53YNTp"
   },
   "outputs": [],
   "source": [
    "pd.DataFrame({'id':test_dt.id,\n",
    "'prediction':test_pred}).to_csv('submission.csv',index=False)"
   ]
  },
  {
   "cell_type": "code",
   "execution_count": null,
   "metadata": {
    "id": "FTELp460kge1"
   },
   "outputs": [],
   "source": []
  }
 ],
 "metadata": {
  "accelerator": "TPU",
  "colab": {
   "machine_shape": "hm",
   "provenance": []
  },
  "gpuClass": "standard",
  "kernelspec": {
   "display_name": "Python 3 (ipykernel)",
   "language": "python",
   "name": "python3"
  },
  "language_info": {
   "codemirror_mode": {
    "name": "ipython",
    "version": 3
   },
   "file_extension": ".py",
   "mimetype": "text/x-python",
   "name": "python",
   "nbconvert_exporter": "python",
   "pygments_lexer": "ipython3",
   "version": "3.8.2"
  }
 },
 "nbformat": 4,
 "nbformat_minor": 1
}
